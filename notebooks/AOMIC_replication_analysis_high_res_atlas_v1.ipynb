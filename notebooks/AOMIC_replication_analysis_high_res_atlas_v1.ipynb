{
 "cells": [
  {
   "cell_type": "code",
   "execution_count": 1,
   "metadata": {},
   "outputs": [],
   "source": [
    "import numpy as np\n",
    "import pandas as pd\n",
    "from scipy.stats import pearsonr\n",
    "import tqdm\n",
    "from joblib import Parallel, delayed\n",
    "import matplotlib.pyplot as plt\n",
    "from mlxtend.evaluate import permutation_test\n",
    "def mlxtend_corr(var1, var2):\n",
    "    p_corr = permutation_test(var1, var2,\n",
    "                        func=lambda x, y: np.corrcoef(x, y)[0,1],\n",
    "                        method='approximate',\n",
    "                        num_rounds=100,\n",
    "                        seed=42)\n",
    "    r_corr = np.corrcoef(var1, var2)[0,1]\n",
    "    return round(p_corr, 4), round(r_corr, 2) \n"
   ]
  },
  {
   "cell_type": "code",
   "execution_count": null,
   "metadata": {},
   "outputs": [],
   "source": [
    "dataIn = ''\n",
    "dataOut = ''\n",
    "\n",
    "# Phenotypes\n",
    "phenotype_names = ['age', 'sex', 'handedness', 'BMI', 'education_level', \n",
    "       'IST_fluid', 'IST_memory', 'IST_crystallised', 'IST_intelligence_total',\n",
    "       'BAS_drive', 'BAS_fun', 'BAS_reward', 'BIS', 'NEO_N', 'NEO_E', 'NEO_O',\n",
    "       'NEO_A', 'NEO_C', 'STAI_T']"
   ]
  },
  {
   "cell_type": "code",
   "execution_count": 7,
   "metadata": {},
   "outputs": [],
   "source": [
    "def replicability(phen, conn):\n",
    "    pdis = np.zeros((17, 100))\n",
    "    prep = np.zeros((17, 100))\n",
    "    rdis = np.zeros((17, 100))\n",
    "    rrep = np.zeros((17, 100))\n",
    "\n",
    "    for perm_row, sampleSize in enumerate(np.arange(25,450, 25)):\n",
    "        for perm_col in range(100):\n",
    "        \n",
    "            ydis = np.load(f'{dataIn}/phenotype-{phen}_conntype-{conn}_data-ydiscovery_sample-{sampleSize}.npy')\n",
    "            yhatdis = np.load(f'{dataIn}/phenotype-{phen}_conntype-{conn}_data-yhatdiscovery_sample-{sampleSize}.npy')\n",
    "            yrep = np.load(f'{dataIn}/phenotype-{phen}_conntype-{conn}_data-yreplication_sample-{sampleSize}.npy')\n",
    "            yhatrep = np.load(f'{dataIn}/phenotype-{phen}_conntype-{conn}_data-yhatreplication_sample-{sampleSize}.npy')\n",
    "            \n",
    "            pdis[perm_row, perm_col] = mlxtend_corr(ydis[:,perm_col], yhatdis[:,perm_col])[0]\n",
    "            prep[perm_row, perm_col] = mlxtend_corr(yrep[:,perm_col], yhatrep[:,perm_col])[0]\n",
    "            \n",
    "            rdis[perm_row, perm_col] = mlxtend_corr(ydis[:,perm_col], yhatdis[:,perm_col])[1]\n",
    "            rrep[perm_row, perm_col] = mlxtend_corr(yrep[:,perm_col], yhatrep[:,perm_col])[1]            \n",
    "            \n",
    "            \n",
    "    counts = np.zeros(17)\n",
    "    effect_sizes = np.zeros((17,2))\n",
    "    for i in range(17):\n",
    "        valid_indices = (pdis[i] < 0.05) & (rdis[i] > 0.0)\n",
    "        counts[i] = np.sum((prep[i][valid_indices] < 0.05) &  (rrep[i][valid_indices] > 0.0) )/np.sum(valid_indices)\n",
    "        effect_sizes[i,0] = rdis[i][valid_indices].mean()\n",
    "        effect_sizes[i,1] = rrep[i][valid_indices].mean()\n",
    "    return counts, effect_sizes[:,0], effect_sizes[:,1]\n"
   ]
  },
  {
   "cell_type": "code",
   "execution_count": null,
   "metadata": {},
   "outputs": [],
   "source": [
    "replicability_results = []\n",
    "for conn in range(1):\n",
    "    results = Parallel(n_jobs=-1)(\n",
    "        delayed(replicability)(phen, conn)\n",
    "        for phen in phenotype_names\n",
    "    )\n",
    "    replicability_results.append(results)"
   ]
  },
  {
   "cell_type": "code",
   "execution_count": 9,
   "metadata": {},
   "outputs": [],
   "source": [
    "replicability_results = np.array(replicability_results)"
   ]
  },
  {
   "cell_type": "code",
   "execution_count": 10,
   "metadata": {},
   "outputs": [
    {
     "data": {
      "text/plain": [
       "[Text(0, 0.0, '0.0'),\n",
       " Text(0, 0.2, '0.2'),\n",
       " Text(0, 0.4, '0.4'),\n",
       " Text(0, 0.8, '0.8')]"
      ]
     },
     "execution_count": 10,
     "metadata": {},
     "output_type": "execute_result"
    },
    {
     "data": {
      "image/png": "[encoded data removed]",
      "text/plain": [
       "<Figure size 65x65 with 1 Axes>"
      ]
     },
     "metadata": {},
     "output_type": "display_data"
    }
   ],
   "source": [
    "def smooth_array(array, window_size):\n",
    "    if window_size <= 0:\n",
    "        raise ValueError(\"Window size must be positive.\")\n",
    "    return np.convolve(array, np.ones(window_size) / window_size, mode='same')\n",
    "\n",
    "colormaps = ['Blues']\n",
    "c = 1\n",
    "line_width = 0.6\n",
    "fig, ax = plt.subplots(figsize=(.65,.65))\n",
    "colormap = plt.get_cmap('Blues')\n",
    "\n",
    "for i in range(19):\n",
    "    plt.plot(smooth_array(replicability_results[0][i][2], 2), \n",
    "        linewidth=line_width, \n",
    "        color=colormap(0.9))\n",
    "\n",
    "ax.set_xticks([0, 4, 8, 12, 16])\n",
    "ax.set_xticklabels(np.arange(25, 450, 100), rotation=90, fontsize=5)  \n",
    "ax.set_yticks([0.0, 0.2, 0.4, 0.8])  # 4 ticks\n",
    "ax.set_yticklabels([0.0, 0.2, 0.4, 0.8], fontsize=5)"
   ]
  },
  {
   "cell_type": "code",
   "execution_count": 11,
   "metadata": {},
   "outputs": [
    {
     "data": {
      "text/plain": [
       "<matplotlib.lines.Line2D at 0x14c19d1c0190>"
      ]
     },
     "execution_count": 11,
     "metadata": {},
     "output_type": "execute_result"
    },
    {
     "data": {
      "image/png": "[encoded data removed]",
      "text/plain": [
       "<Figure size 65x65 with 1 Axes>"
      ]
     },
     "metadata": {},
     "output_type": "display_data"
    }
   ],
   "source": [
    "def smooth_array(array, window_size):\n",
    "    if window_size <= 0:\n",
    "        raise ValueError(\"Window size must be positive.\")\n",
    "    return np.convolve(array, np.ones(window_size) / window_size, mode='same')\n",
    "\n",
    "colormaps = ['Blues']\n",
    "c = 1\n",
    "line_width = 0.6\n",
    "fig, ax = plt.subplots(figsize=(.65,.65))\n",
    "colormap = plt.get_cmap('Blues')\n",
    "\n",
    "for i in range(19):\n",
    "    plt.plot(smooth_array(replicability_results[0][i][0], 2), \n",
    "        linewidth=line_width, \n",
    "        color=colormap(0.9))\n",
    "\n",
    "ax.set_xticks([0, 4, 8, 12, 16])\n",
    "ax.set_xticklabels(np.arange(25, 450, 100), rotation=90, fontsize=5)  \n",
    "ax.set_yticks([0.0, 0.4, 0.8, 1.0])  # 4 ticks\n",
    "ax.set_yticklabels([0.0, 0.4, 0.8, 1.0], fontsize=5)\n",
    "ax.axhline(y=0.8, color='black', linestyle='--', linewidth=0.5)"
   ]
  },
  {
   "cell_type": "code",
   "execution_count": 12,
   "metadata": {},
   "outputs": [
    {
     "data": {
      "text/plain": [
       "[Text(0.5, 0, 'age'),\n",
       " Text(1.5, 0, 'sex'),\n",
       " Text(2.5, 0, 'handedness'),\n",
       " Text(3.5, 0, 'BMI'),\n",
       " Text(4.5, 0, 'education_level'),\n",
       " Text(5.5, 0, 'IST_fluid'),\n",
       " Text(6.5, 0, 'IST_memory'),\n",
       " Text(7.5, 0, 'IST_crystallised'),\n",
       " Text(8.5, 0, 'IST_intelligence_total'),\n",
       " Text(9.5, 0, 'BAS_drive'),\n",
       " Text(10.5, 0, 'BAS_fun'),\n",
       " Text(11.5, 0, 'BAS_reward'),\n",
       " Text(12.5, 0, 'BIS'),\n",
       " Text(13.5, 0, 'NEO_N'),\n",
       " Text(14.5, 0, 'NEO_E'),\n",
       " Text(15.5, 0, 'NEO_O'),\n",
       " Text(16.5, 0, 'NEO_A'),\n",
       " Text(17.5, 0, 'NEO_C'),\n",
       " Text(18.5, 0, 'STAI_T')]"
      ]
     },
     "execution_count": 12,
     "metadata": {},
     "output_type": "execute_result"
    },
    {
     "data": {
      "image/png": "[encoded data removed]",
      "text/plain": [
       "<Figure size 125x125 with 1 Axes>"
      ]
     },
     "metadata": {},
     "output_type": "display_data"
    }
   ],
   "source": [
    "res = []\n",
    "for i in range(19):\n",
    "    res.append(replicability_results[0][i][0])\n",
    "res = np.array(res).T\n",
    "\n",
    "import seaborn as sns\n",
    "\n",
    "fig, ax = plt.subplots(figsize=(5/4, 1.25))\n",
    "sns.heatmap(res, cmap='Blues', cbar=False)\n",
    "ax.set_yticks(np.arange(0.5, 17.5, 1)) # ticks should be in the center of the box\n",
    "ax.set_yticklabels(np.arange(25, 450, 25), rotation=0, fontsize=4, ha='center')  \n",
    "ax.set_xticks(np.arange(0.5, 19.5, 1)) # ticks should be in the center of the box\n",
    "ax.set_xticklabels(phenotype_names, rotation=90, fontsize=4) "
   ]
  },
  {
   "cell_type": "code",
   "execution_count": 13,
   "metadata": {},
   "outputs": [],
   "source": [
    "finalResults = []\n",
    "for conntype in range(1):\n",
    "    model_history = np.zeros((19, 3))\n",
    "    for phenIdx in range(19):\n",
    "        temp_phen_replicability = np.array(replicability_results[0][phenIdx][0]) #replicability_results[conntype][phenIdx][0]\n",
    "        start_index = next((i for i, value in enumerate(temp_phen_replicability) if value > 0.8), None)  # correct the code\n",
    "        #if np.mean(temp_phen_replicability[start_index:]) > 0.8:\n",
    "        if start_index is not None and np.mean(temp_phen_replicability[start_index:]) > 0.8:\n",
    "            out_sample_size = np.arange(25, 450, 25)[start_index]\n",
    "            out_dis_effect_size = replicability_results[conntype][phenIdx][1][start_index]\n",
    "            out_rep_effect_size = replicability_results[conntype][phenIdx][2][start_index]\n",
    "        else:\n",
    "            out_sample_size = np.inf\n",
    "            out_dis_effect_size = np.inf\n",
    "            out_rep_effect_size = np.inf\n",
    "        model_history[phenIdx, 0] = out_sample_size\n",
    "        model_history[phenIdx, 1] = out_dis_effect_size\n",
    "        model_history[phenIdx, 2] = out_rep_effect_size\n",
    "    finalResults.append(model_history)"
   ]
  },
  {
   "cell_type": "code",
   "execution_count": 14,
   "metadata": {},
   "outputs": [
    {
     "data": {
      "text/html": [
       "<div>\n",
       "<style scoped>\n",
       "    .dataframe tbody tr th:only-of-type {\n",
       "        vertical-align: middle;\n",
       "    }\n",
       "\n",
       "    .dataframe tbody tr th {\n",
       "        vertical-align: top;\n",
       "    }\n",
       "\n",
       "    .dataframe thead th {\n",
       "        text-align: right;\n",
       "    }\n",
       "</style>\n",
       "<table border=\"1\" class=\"dataframe\">\n",
       "  <thead>\n",
       "    <tr style=\"text-align: right;\">\n",
       "      <th></th>\n",
       "      <th>Sample Size</th>\n",
       "      <th>Discovery Effect Size</th>\n",
       "      <th>Replication Effect Size</th>\n",
       "    </tr>\n",
       "  </thead>\n",
       "  <tbody>\n",
       "    <tr>\n",
       "      <th>age</th>\n",
       "      <td>250.0</td>\n",
       "      <td>0.171509</td>\n",
       "      <td>0.167170</td>\n",
       "    </tr>\n",
       "    <tr>\n",
       "      <th>sex</th>\n",
       "      <td>25.0</td>\n",
       "      <td>0.570714</td>\n",
       "      <td>0.530357</td>\n",
       "    </tr>\n",
       "    <tr>\n",
       "      <th>handedness</th>\n",
       "      <td>inf</td>\n",
       "      <td>inf</td>\n",
       "      <td>inf</td>\n",
       "    </tr>\n",
       "    <tr>\n",
       "      <th>BMI</th>\n",
       "      <td>200.0</td>\n",
       "      <td>0.211194</td>\n",
       "      <td>0.209552</td>\n",
       "    </tr>\n",
       "    <tr>\n",
       "      <th>education_level</th>\n",
       "      <td>inf</td>\n",
       "      <td>inf</td>\n",
       "      <td>inf</td>\n",
       "    </tr>\n",
       "    <tr>\n",
       "      <th>IST_fluid</th>\n",
       "      <td>200.0</td>\n",
       "      <td>0.193143</td>\n",
       "      <td>0.201714</td>\n",
       "    </tr>\n",
       "    <tr>\n",
       "      <th>IST_memory</th>\n",
       "      <td>375.0</td>\n",
       "      <td>0.140149</td>\n",
       "      <td>0.128358</td>\n",
       "    </tr>\n",
       "    <tr>\n",
       "      <th>IST_crystallised</th>\n",
       "      <td>100.0</td>\n",
       "      <td>0.241765</td>\n",
       "      <td>0.219706</td>\n",
       "    </tr>\n",
       "    <tr>\n",
       "      <th>IST_intelligence_total</th>\n",
       "      <td>125.0</td>\n",
       "      <td>0.239444</td>\n",
       "      <td>0.214444</td>\n",
       "    </tr>\n",
       "    <tr>\n",
       "      <th>BAS_drive</th>\n",
       "      <td>inf</td>\n",
       "      <td>inf</td>\n",
       "      <td>inf</td>\n",
       "    </tr>\n",
       "    <tr>\n",
       "      <th>BAS_fun</th>\n",
       "      <td>inf</td>\n",
       "      <td>inf</td>\n",
       "      <td>inf</td>\n",
       "    </tr>\n",
       "    <tr>\n",
       "      <th>BAS_reward</th>\n",
       "      <td>inf</td>\n",
       "      <td>inf</td>\n",
       "      <td>inf</td>\n",
       "    </tr>\n",
       "    <tr>\n",
       "      <th>BIS</th>\n",
       "      <td>375.0</td>\n",
       "      <td>0.140469</td>\n",
       "      <td>0.130156</td>\n",
       "    </tr>\n",
       "    <tr>\n",
       "      <th>NEO_N</th>\n",
       "      <td>inf</td>\n",
       "      <td>inf</td>\n",
       "      <td>inf</td>\n",
       "    </tr>\n",
       "    <tr>\n",
       "      <th>NEO_E</th>\n",
       "      <td>inf</td>\n",
       "      <td>inf</td>\n",
       "      <td>inf</td>\n",
       "    </tr>\n",
       "    <tr>\n",
       "      <th>NEO_O</th>\n",
       "      <td>inf</td>\n",
       "      <td>inf</td>\n",
       "      <td>inf</td>\n",
       "    </tr>\n",
       "    <tr>\n",
       "      <th>NEO_A</th>\n",
       "      <td>300.0</td>\n",
       "      <td>0.153958</td>\n",
       "      <td>0.144792</td>\n",
       "    </tr>\n",
       "    <tr>\n",
       "      <th>NEO_C</th>\n",
       "      <td>inf</td>\n",
       "      <td>inf</td>\n",
       "      <td>inf</td>\n",
       "    </tr>\n",
       "    <tr>\n",
       "      <th>STAI_T</th>\n",
       "      <td>inf</td>\n",
       "      <td>inf</td>\n",
       "      <td>inf</td>\n",
       "    </tr>\n",
       "  </tbody>\n",
       "</table>\n",
       "</div>"
      ],
      "text/plain": [
       "                        Sample Size  Discovery Effect Size  \\\n",
       "age                           250.0               0.171509   \n",
       "sex                            25.0               0.570714   \n",
       "handedness                      inf                    inf   \n",
       "BMI                           200.0               0.211194   \n",
       "education_level                 inf                    inf   \n",
       "IST_fluid                     200.0               0.193143   \n",
       "IST_memory                    375.0               0.140149   \n",
       "IST_crystallised              100.0               0.241765   \n",
       "IST_intelligence_total        125.0               0.239444   \n",
       "BAS_drive                       inf                    inf   \n",
       "BAS_fun                         inf                    inf   \n",
       "BAS_reward                      inf                    inf   \n",
       "BIS                           375.0               0.140469   \n",
       "NEO_N                           inf                    inf   \n",
       "NEO_E                           inf                    inf   \n",
       "NEO_O                           inf                    inf   \n",
       "NEO_A                         300.0               0.153958   \n",
       "NEO_C                           inf                    inf   \n",
       "STAI_T                          inf                    inf   \n",
       "\n",
       "                        Replication Effect Size  \n",
       "age                                    0.167170  \n",
       "sex                                    0.530357  \n",
       "handedness                                  inf  \n",
       "BMI                                    0.209552  \n",
       "education_level                             inf  \n",
       "IST_fluid                              0.201714  \n",
       "IST_memory                             0.128358  \n",
       "IST_crystallised                       0.219706  \n",
       "IST_intelligence_total                 0.214444  \n",
       "BAS_drive                                   inf  \n",
       "BAS_fun                                     inf  \n",
       "BAS_reward                                  inf  \n",
       "BIS                                    0.130156  \n",
       "NEO_N                                       inf  \n",
       "NEO_E                                       inf  \n",
       "NEO_O                                       inf  \n",
       "NEO_A                                  0.144792  \n",
       "NEO_C                                       inf  \n",
       "STAI_T                                      inf  "
      ]
     },
     "execution_count": 14,
     "metadata": {},
     "output_type": "execute_result"
    }
   ],
   "source": [
    "finalResults = np.array(finalResults)\n",
    "res_df = pd.DataFrame(finalResults[0])\n",
    "res_df.index = phenotype_names\n",
    "res_df.columns = ['Sample Size', 'Discovery Effect Size', 'Replication Effect Size']    \n",
    "res_df"
   ]
  },
  {
   "cell_type": "code",
   "execution_count": 15,
   "metadata": {},
   "outputs": [
    {
     "name": "stdout",
     "output_type": "stream",
     "text": [
      "0.1294285714285714 0.6857000000000001 0.13314285714285712 0.7070999999999996\n",
      "-0.050199999999999995 0.00013698630136985135\n"
     ]
    }
   ],
   "source": [
    "dis_425=[]\n",
    "rep_425=[]\n",
    "for i in [0,1,3,5,6,7,8,12,16]:\n",
    "    dis_425.append(replicability_results[0][i][1][16])\n",
    "    rep_425.append(replicability_results[0][i][2][16])\n",
    "dis_425 = np.array(dis_425)\n",
    "rep_425 = np.array(rep_425)\n",
    "\n",
    "print(dis_425.min(), dis_425.max(), rep_425.min(), rep_425.max())\n",
    "print((dis_425 - rep_425).min(), (dis_425 - rep_425).max()    )"
   ]
  },
  {
   "cell_type": "code",
   "execution_count": 16,
   "metadata": {},
   "outputs": [
    {
     "data": {
      "text/plain": [
       "Sample Size                216.666667\n",
       "Discovery Effect Size        0.229150\n",
       "Replication Effect Size      0.216250\n",
       "dtype: float64"
      ]
     },
     "execution_count": 16,
     "metadata": {},
     "output_type": "execute_result"
    }
   ],
   "source": [
    "finite_sample_sizes = res_df[~np.isinf(res_df['Sample Size'])]\n",
    "finite_sample_sizes.mean()"
   ]
  }
 ],
 "metadata": {
  "kernelspec": {
   "display_name": "Python 3",
   "language": "python",
   "name": "python3"
  },
  "language_info": {
   "codemirror_mode": {
    "name": "ipython",
    "version": 3
   },
   "file_extension": ".py",
   "mimetype": "text/x-python",
   "name": "python",
   "nbconvert_exporter": "python",
   "pygments_lexer": "ipython3",
   "version": "3.9.21"
  }
 },
 "nbformat": 4,
 "nbformat_minor": 2
}
