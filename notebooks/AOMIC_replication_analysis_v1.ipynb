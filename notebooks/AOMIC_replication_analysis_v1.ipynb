{
 "cells": [
  {
   "cell_type": "code",
   "execution_count": 8,
   "metadata": {},
   "outputs": [],
   "source": [
    "import warnings; warnings.filterwarnings('ignore')\n",
    "import numpy as np\n",
    "import pandas as pd\n",
    "from scipy.stats import pearsonr\n",
    "import tqdm\n",
    "from joblib import Parallel, delayed\n",
    "import matplotlib.pyplot as plt\n",
    "from mlxtend.evaluate import permutation_test\n",
    "def mlxtend_corr(var1, var2):\n",
    "    p_corr = permutation_test(var1, var2,\n",
    "                        func=lambda x, y: np.corrcoef(x, y)[0,1],\n",
    "                        method='approximate',\n",
    "                        num_rounds=100,\n",
    "                        seed=42)\n",
    "    r_corr = np.corrcoef(var1, var2)[0,1]\n",
    "    return round(p_corr, 4), round(r_corr, 2) \n",
    "import seaborn as sns"
   ]
  },
  {
   "cell_type": "code",
   "execution_count": 5,
   "metadata": {},
   "outputs": [],
   "source": [
    "dataIn = '../aomic-default'\n",
    "dataOut = '../aomic-default'\n",
    "\n",
    "# Phenotypes\n",
    "phenotype_names = ['age', 'sex', 'handedness', 'BMI', 'education_level', \n",
    "       'IST_fluid', 'IST_memory', 'IST_crystallised', 'IST_intelligence_total',\n",
    "       'BAS_drive', 'BAS_fun', 'BAS_reward', 'BIS', 'NEO_N', 'NEO_E', 'NEO_O',\n",
    "       'NEO_A', 'NEO_C', 'STAI_T']"
   ]
  },
  {
   "cell_type": "code",
   "execution_count": 6,
   "metadata": {},
   "outputs": [],
   "source": [
    "ALPHA=0.05\n",
    "def replicability(phen, conn):\n",
    "    pdis = np.zeros((17, 100))\n",
    "    prep = np.zeros((17, 100))\n",
    "    rdis = np.zeros((17, 100))\n",
    "    rrep = np.zeros((17, 100))\n",
    "\n",
    "    for perm_row, sampleSize in enumerate(np.arange(25,450, 25)):\n",
    "        for perm_col in range(100):\n",
    "        \n",
    "            ydis = np.load(f'{dataIn}/phenotype-{phen}_conntype-{conn}_data-ydiscovery_sample-{sampleSize}.npy')\n",
    "            yhatdis = np.load(f'{dataIn}/phenotype-{phen}_conntype-{conn}_data-yhatdiscovery_sample-{sampleSize}.npy')\n",
    "            yrep = np.load(f'{dataIn}/phenotype-{phen}_conntype-{conn}_data-yreplication_sample-{sampleSize}.npy')\n",
    "            yhatrep = np.load(f'{dataIn}/phenotype-{phen}_conntype-{conn}_data-yhatreplication_sample-{sampleSize}.npy')\n",
    "            \n",
    "            pdis[perm_row, perm_col] = mlxtend_corr(ydis[:,perm_col], yhatdis[:,perm_col])[0]\n",
    "            prep[perm_row, perm_col] = mlxtend_corr(yrep[:,perm_col], yhatrep[:,perm_col])[0]\n",
    "            \n",
    "            rdis[perm_row, perm_col] = mlxtend_corr(ydis[:,perm_col], yhatdis[:,perm_col])[1]\n",
    "            rrep[perm_row, perm_col] = mlxtend_corr(yrep[:,perm_col], yhatrep[:,perm_col])[1]            \n",
    "            \n",
    "            \n",
    "    counts = np.zeros(17)\n",
    "    effect_sizes = np.zeros((17,2))\n",
    "    for i in range(17):\n",
    "        valid_indices = (pdis[i] < ALPHA) & (rdis[i] > 0.0)\n",
    "        counts[i] = np.sum((prep[i][valid_indices] < ALPHA) &  (rrep[i][valid_indices] > 0.0) )/np.sum(valid_indices)\n",
    "        effect_sizes[i,0] = rdis[i][valid_indices].mean()\n",
    "        effect_sizes[i,1] = rrep[i][valid_indices].mean()\n",
    "    return counts, effect_sizes[:,0], effect_sizes[:,1]\n"
   ]
  },
  {
   "cell_type": "code",
   "execution_count": null,
   "metadata": {},
   "outputs": [],
   "source": [
    "replicability_results = []\n",
    "for conn in range(1):\n",
    "    results = Parallel(n_jobs=-1)(\n",
    "        delayed(replicability)(phen, conn)\n",
    "        for phen in phenotype_names\n",
    "    )\n",
    "    replicability_results.append(results)"
   ]
  },
  {
   "cell_type": "code",
   "execution_count": 10,
   "metadata": {},
   "outputs": [
    {
     "data": {
      "text/plain": [
       "<Axes: >"
      ]
     },
     "execution_count": 10,
     "metadata": {},
     "output_type": "execute_result"
    },
    {
     "data": {
      "image/png": "[encoded data removed]",
      "text/plain": [
       "<Figure size 65x65 with 1 Axes>"
      ]
     },
     "metadata": {},
     "output_type": "display_data"
    }
   ],
   "source": [
    "fig, ax = plt.subplots(figsize=(.65, .65))\n",
    "dis_425=[]\n",
    "rep_425=[]\n",
    "colormaps = ['Greys', 'Blues']\n",
    "for i in range(19):\n",
    "    \n",
    "    colormap = plt.get_cmap(colormaps[0])\n",
    "    a = replicability_results[0][i][1][16]\n",
    "    b = replicability_results[0][i][2][16]\n",
    "    plt.scatter(a,b, s=3, alpha=0.5, color=colormap(0.8))\n",
    "    plt.xticks(fontsize=4)\n",
    "    plt.yticks(fontsize=4)\n",
    "\n",
    "    dis_425.append(replicability_results[0][i][1][16])\n",
    "    rep_425.append(replicability_results[0][i][2][16])\n",
    "dis_425 = np.array(dis_425)\n",
    "rep_425 = np.array(rep_425)\n",
    "\n",
    "sns.regplot(y=dis_425, x=rep_425, \n",
    "                    color=colormap(0.9), \n",
    "                    scatter=False,\n",
    "                    line_kws={\"linewidth\": 0.5, 'alpha': 0.4}\n",
    "                    )"
   ]
  },
  {
   "cell_type": "code",
   "execution_count": 11,
   "metadata": {},
   "outputs": [
    {
     "data": {
      "text/plain": [
       "(np.float64(-0.050412371134020695), np.float64(0.03399999999999999))"
      ]
     },
     "execution_count": 11,
     "metadata": {},
     "output_type": "execute_result"
    }
   ],
   "source": [
    "dis_425=[]\n",
    "rep_425=[]\n",
    "colormaps = ['Greys', 'Blues']\n",
    "for i in [0,1,3,5,7,8,12,18]:\n",
    "    \n",
    "    \n",
    "    dis_425.append(replicability_results[0][i][1][16])\n",
    "    rep_425.append(replicability_results[0][i][2][16])\n",
    "dis_425 = np.array(dis_425)\n",
    "rep_425 = np.array(rep_425)\n",
    "\n",
    "dis_425.min(), dis_425.max(), rep_425.min(), rep_425.max()\n",
    "(dis_425 - rep_425).min(), (dis_425 - rep_425).max()"
   ]
  },
  {
   "cell_type": "code",
   "execution_count": 12,
   "metadata": {},
   "outputs": [
    {
     "data": {
      "text/plain": [
       "[]"
      ]
     },
     "execution_count": 12,
     "metadata": {},
     "output_type": "execute_result"
    },
    {
     "data": {
      "image/png": "[encoded data removed]",
      "text/plain": [
       "<Figure size 25x100 with 1 Axes>"
      ]
     },
     "metadata": {},
     "output_type": "display_data"
    }
   ],
   "source": [
    "percentage=42;remainder=100-percentage\n",
    "colors=['green','red']\n",
    "fig,ax=plt.subplots(figsize=(0.5/2,2/2))\n",
    "ax.bar(0,percentage,color=colors[0])\n",
    "ax.bar(0,remainder,bottom=percentage,color=colors[1])\n",
    "ax.set_ylim(0,100)\n",
    "ax.set_xticks([])\n",
    "ax.set_yticks([])"
   ]
  },
  {
   "cell_type": "code",
   "execution_count": 13,
   "metadata": {},
   "outputs": [],
   "source": [
    "replicability_results = np.array(replicability_results)"
   ]
  },
  {
   "cell_type": "code",
   "execution_count": 14,
   "metadata": {},
   "outputs": [
    {
     "data": {
      "text/plain": [
       "[Text(0, 0.0, '0.0'),\n",
       " Text(0, 0.2, '0.2'),\n",
       " Text(0, 0.4, '0.4'),\n",
       " Text(0, 0.8, '0.8')]"
      ]
     },
     "execution_count": 14,
     "metadata": {},
     "output_type": "execute_result"
    },
    {
     "data": {
      "image/png": "[encoded data removed]",
      "text/plain": [
       "<Figure size 65x65 with 1 Axes>"
      ]
     },
     "metadata": {},
     "output_type": "display_data"
    }
   ],
   "source": [
    "def smooth_array(array, window_size):\n",
    "    if window_size <= 0:\n",
    "        raise ValueError(\"Window size must be positive.\")\n",
    "    return np.convolve(array, np.ones(window_size) / window_size, mode='same')\n",
    "\n",
    "colormaps = ['Blues']\n",
    "c = 1\n",
    "line_width = 0.6\n",
    "fig, ax = plt.subplots(figsize=(.65,.65))\n",
    "colormap = plt.get_cmap('Blues')\n",
    "\n",
    "for i in range(19):\n",
    "    plt.plot(smooth_array(replicability_results[0][i][2], 2), \n",
    "        linewidth=line_width, \n",
    "        color=colormap(0.9))\n",
    "\n",
    "ax.set_xticks([0, 4, 8, 12, 16])\n",
    "ax.set_xticklabels(np.arange(25, 450, 100), rotation=90, fontsize=5)  \n",
    "ax.set_yticks([0.0, 0.2, 0.4, 0.8])  # 4 ticks\n",
    "ax.set_yticklabels([0.0, 0.2, 0.4, 0.8], fontsize=5)"
   ]
  },
  {
   "cell_type": "code",
   "execution_count": 15,
   "metadata": {},
   "outputs": [
    {
     "data": {
      "text/plain": [
       "<matplotlib.lines.Line2D at 0x149b85ab4b20>"
      ]
     },
     "execution_count": 15,
     "metadata": {},
     "output_type": "execute_result"
    },
    {
     "data": {
      "image/png": "[encoded data removed]",
      "text/plain": [
       "<Figure size 65x65 with 1 Axes>"
      ]
     },
     "metadata": {},
     "output_type": "display_data"
    }
   ],
   "source": [
    "def smooth_array(array, window_size):\n",
    "    if window_size <= 0:\n",
    "        raise ValueError(\"Window size must be positive.\")\n",
    "    return np.convolve(array, np.ones(window_size) / window_size, mode='same')\n",
    "\n",
    "colormaps = ['Greys']\n",
    "c = 1\n",
    "line_width = 0.6\n",
    "fig, ax = plt.subplots(figsize=(.65,.65))\n",
    "colormap = plt.get_cmap('Greys')\n",
    "\n",
    "for i in range(19):\n",
    "    plt.plot(smooth_array(replicability_results[0][i][2], 2), \n",
    "        linewidth=line_width, \n",
    "        color=colormap(0.9),\n",
    "        alpha=0.4)\n",
    "\n",
    "ax.set_xticks([0, 4, 8, 12, 16])\n",
    "ax.set_xticklabels(np.arange(25, 450, 100), rotation=90, fontsize=5)  \n",
    "ax.set_yticks([0.0, 0.4, 0.8, 1.0])  # 4 ticks\n",
    "ax.set_yticklabels([0.0, 0.4, 0.8, 1.0], fontsize=5)\n",
    "ax.axhline(y=0.8, color=colormap(.9), linestyle='--', linewidth=0.5)"
   ]
  },
  {
   "cell_type": "code",
   "execution_count": 16,
   "metadata": {},
   "outputs": [
    {
     "data": {
      "text/plain": [
       "[Text(0.5, 0, 'age'),\n",
       " Text(1.5, 0, 'sex'),\n",
       " Text(2.5, 0, 'handedness'),\n",
       " Text(3.5, 0, 'BMI'),\n",
       " Text(4.5, 0, 'education_level'),\n",
       " Text(5.5, 0, 'IST_fluid'),\n",
       " Text(6.5, 0, 'IST_memory'),\n",
       " Text(7.5, 0, 'IST_crystallised'),\n",
       " Text(8.5, 0, 'IST_intelligence_total'),\n",
       " Text(9.5, 0, 'BAS_drive'),\n",
       " Text(10.5, 0, 'BAS_fun'),\n",
       " Text(11.5, 0, 'BAS_reward'),\n",
       " Text(12.5, 0, 'BIS'),\n",
       " Text(13.5, 0, 'NEO_N'),\n",
       " Text(14.5, 0, 'NEO_E'),\n",
       " Text(15.5, 0, 'NEO_O'),\n",
       " Text(16.5, 0, 'NEO_A'),\n",
       " Text(17.5, 0, 'NEO_C'),\n",
       " Text(18.5, 0, 'STAI_T')]"
      ]
     },
     "execution_count": 16,
     "metadata": {},
     "output_type": "execute_result"
    },
    {
     "data": {
      "image/png": "[encoded data removed]",
      "text/plain": [
       "<Figure size 125x125 with 1 Axes>"
      ]
     },
     "metadata": {},
     "output_type": "display_data"
    }
   ],
   "source": [
    "res = []\n",
    "for i in range(19):\n",
    "    res.append(replicability_results[0][i][0])\n",
    "res = np.array(res).T\n",
    "\n",
    "import seaborn as sns\n",
    "\n",
    "fig, ax = plt.subplots(figsize=(5/4, 1.25))\n",
    "sns.heatmap(res, cmap='Blues', cbar=False)\n",
    "for j in range(19):\n",
    "        for k in range(17):\n",
    "            if replicability_results[0][j][0][k] >= 0.8:\n",
    "                ax.text(j+0.5,k+0.75, '*', color='yellow', ha='center', va='center', fontsize=4)\n",
    "\n",
    "\n",
    "ax.set_yticks(np.arange(0.5, 17.5, 2)) # ticks should be in the center of the box\n",
    "ax.set_yticklabels(np.arange(25, 450, 50), rotation=0, fontsize=5, ha='center')  \n",
    "ax.set_xticks(np.arange(0.5, 19.5, 1)) # ticks should be in the center of the box\n",
    "ax.set_xticklabels(phenotype_names, rotation=90, fontsize=4)"
   ]
  },
  {
   "cell_type": "code",
   "execution_count": 17,
   "metadata": {},
   "outputs": [],
   "source": [
    "finalResults = []\n",
    "for conntype in range(1):\n",
    "    model_history = np.zeros((19, 3))\n",
    "    for phenIdx in range(19):\n",
    "        temp_phen_replicability = np.array(replicability_results[0][phenIdx][0]) #replicability_results[conntype][phenIdx][0]\n",
    "        start_index = next((i for i, value in enumerate(temp_phen_replicability) if value > 0.8), None)  # correct the code\n",
    "        #if np.mean(temp_phen_replicability[start_index:]) > 0.8:\n",
    "        if start_index is not None and np.mean(temp_phen_replicability[start_index:]) > 0.8:\n",
    "            out_sample_size = np.arange(25, 450, 25)[start_index]\n",
    "            out_dis_effect_size = replicability_results[conntype][phenIdx][1][start_index]\n",
    "            out_rep_effect_size = replicability_results[conntype][phenIdx][2][start_index]\n",
    "        else:\n",
    "            out_sample_size = np.inf\n",
    "            out_dis_effect_size = np.inf\n",
    "            out_rep_effect_size = np.inf\n",
    "        model_history[phenIdx, 0] = out_sample_size\n",
    "        model_history[phenIdx, 1] = out_dis_effect_size\n",
    "        model_history[phenIdx, 2] = out_rep_effect_size\n",
    "    finalResults.append(model_history)"
   ]
  },
  {
   "cell_type": "code",
   "execution_count": 18,
   "metadata": {},
   "outputs": [
    {
     "data": {
      "text/html": [
       "<div>\n",
       "<style scoped>\n",
       "    .dataframe tbody tr th:only-of-type {\n",
       "        vertical-align: middle;\n",
       "    }\n",
       "\n",
       "    .dataframe tbody tr th {\n",
       "        vertical-align: top;\n",
       "    }\n",
       "\n",
       "    .dataframe thead th {\n",
       "        text-align: right;\n",
       "    }\n",
       "</style>\n",
       "<table border=\"1\" class=\"dataframe\">\n",
       "  <thead>\n",
       "    <tr style=\"text-align: right;\">\n",
       "      <th></th>\n",
       "      <th>Sample Size</th>\n",
       "      <th>Discovery Effect Size</th>\n",
       "      <th>Replication Effect Size</th>\n",
       "      <th>category</th>\n",
       "    </tr>\n",
       "  </thead>\n",
       "  <tbody>\n",
       "    <tr>\n",
       "      <th>age</th>\n",
       "      <td>250.0</td>\n",
       "      <td>0.184318</td>\n",
       "      <td>0.167273</td>\n",
       "      <td>demography</td>\n",
       "    </tr>\n",
       "    <tr>\n",
       "      <th>sex</th>\n",
       "      <td>25.0</td>\n",
       "      <td>0.513830</td>\n",
       "      <td>0.474043</td>\n",
       "      <td>demography</td>\n",
       "    </tr>\n",
       "    <tr>\n",
       "      <th>handedness</th>\n",
       "      <td>inf</td>\n",
       "      <td>inf</td>\n",
       "      <td>inf</td>\n",
       "      <td>demography</td>\n",
       "    </tr>\n",
       "    <tr>\n",
       "      <th>BMI</th>\n",
       "      <td>200.0</td>\n",
       "      <td>0.211522</td>\n",
       "      <td>0.188913</td>\n",
       "      <td>demography</td>\n",
       "    </tr>\n",
       "    <tr>\n",
       "      <th>education_level</th>\n",
       "      <td>inf</td>\n",
       "      <td>inf</td>\n",
       "      <td>inf</td>\n",
       "      <td>demography</td>\n",
       "    </tr>\n",
       "    <tr>\n",
       "      <th>IST_fluid</th>\n",
       "      <td>225.0</td>\n",
       "      <td>0.186471</td>\n",
       "      <td>0.164118</td>\n",
       "      <td>trait</td>\n",
       "    </tr>\n",
       "    <tr>\n",
       "      <th>IST_memory</th>\n",
       "      <td>inf</td>\n",
       "      <td>inf</td>\n",
       "      <td>inf</td>\n",
       "      <td>trait</td>\n",
       "    </tr>\n",
       "    <tr>\n",
       "      <th>IST_crystallised</th>\n",
       "      <td>150.0</td>\n",
       "      <td>0.210870</td>\n",
       "      <td>0.212391</td>\n",
       "      <td>trait</td>\n",
       "    </tr>\n",
       "    <tr>\n",
       "      <th>IST_intelligence_total</th>\n",
       "      <td>225.0</td>\n",
       "      <td>0.189500</td>\n",
       "      <td>0.187167</td>\n",
       "      <td>trait</td>\n",
       "    </tr>\n",
       "    <tr>\n",
       "      <th>BAS_drive</th>\n",
       "      <td>inf</td>\n",
       "      <td>inf</td>\n",
       "      <td>inf</td>\n",
       "      <td>trait</td>\n",
       "    </tr>\n",
       "    <tr>\n",
       "      <th>BAS_fun</th>\n",
       "      <td>inf</td>\n",
       "      <td>inf</td>\n",
       "      <td>inf</td>\n",
       "      <td>trait</td>\n",
       "    </tr>\n",
       "    <tr>\n",
       "      <th>BAS_reward</th>\n",
       "      <td>inf</td>\n",
       "      <td>inf</td>\n",
       "      <td>inf</td>\n",
       "      <td>trait</td>\n",
       "    </tr>\n",
       "    <tr>\n",
       "      <th>BIS</th>\n",
       "      <td>425.0</td>\n",
       "      <td>0.122889</td>\n",
       "      <td>0.116444</td>\n",
       "      <td>trait</td>\n",
       "    </tr>\n",
       "    <tr>\n",
       "      <th>NEO_N</th>\n",
       "      <td>inf</td>\n",
       "      <td>inf</td>\n",
       "      <td>inf</td>\n",
       "      <td>trait</td>\n",
       "    </tr>\n",
       "    <tr>\n",
       "      <th>NEO_E</th>\n",
       "      <td>inf</td>\n",
       "      <td>inf</td>\n",
       "      <td>inf</td>\n",
       "      <td>trait</td>\n",
       "    </tr>\n",
       "    <tr>\n",
       "      <th>NEO_O</th>\n",
       "      <td>inf</td>\n",
       "      <td>inf</td>\n",
       "      <td>inf</td>\n",
       "      <td>trait</td>\n",
       "    </tr>\n",
       "    <tr>\n",
       "      <th>NEO_A</th>\n",
       "      <td>325.0</td>\n",
       "      <td>0.144783</td>\n",
       "      <td>0.137174</td>\n",
       "      <td>trait</td>\n",
       "    </tr>\n",
       "    <tr>\n",
       "      <th>NEO_C</th>\n",
       "      <td>inf</td>\n",
       "      <td>inf</td>\n",
       "      <td>inf</td>\n",
       "      <td>trait</td>\n",
       "    </tr>\n",
       "    <tr>\n",
       "      <th>STAI_T</th>\n",
       "      <td>inf</td>\n",
       "      <td>inf</td>\n",
       "      <td>inf</td>\n",
       "      <td>trait</td>\n",
       "    </tr>\n",
       "  </tbody>\n",
       "</table>\n",
       "</div>"
      ],
      "text/plain": [
       "                        Sample Size  Discovery Effect Size  \\\n",
       "age                           250.0               0.184318   \n",
       "sex                            25.0               0.513830   \n",
       "handedness                      inf                    inf   \n",
       "BMI                           200.0               0.211522   \n",
       "education_level                 inf                    inf   \n",
       "IST_fluid                     225.0               0.186471   \n",
       "IST_memory                      inf                    inf   \n",
       "IST_crystallised              150.0               0.210870   \n",
       "IST_intelligence_total        225.0               0.189500   \n",
       "BAS_drive                       inf                    inf   \n",
       "BAS_fun                         inf                    inf   \n",
       "BAS_reward                      inf                    inf   \n",
       "BIS                           425.0               0.122889   \n",
       "NEO_N                           inf                    inf   \n",
       "NEO_E                           inf                    inf   \n",
       "NEO_O                           inf                    inf   \n",
       "NEO_A                         325.0               0.144783   \n",
       "NEO_C                           inf                    inf   \n",
       "STAI_T                          inf                    inf   \n",
       "\n",
       "                        Replication Effect Size    category  \n",
       "age                                    0.167273  demography  \n",
       "sex                                    0.474043  demography  \n",
       "handedness                                  inf  demography  \n",
       "BMI                                    0.188913  demography  \n",
       "education_level                             inf  demography  \n",
       "IST_fluid                              0.164118       trait  \n",
       "IST_memory                                  inf       trait  \n",
       "IST_crystallised                       0.212391       trait  \n",
       "IST_intelligence_total                 0.187167       trait  \n",
       "BAS_drive                                   inf       trait  \n",
       "BAS_fun                                     inf       trait  \n",
       "BAS_reward                                  inf       trait  \n",
       "BIS                                    0.116444       trait  \n",
       "NEO_N                                       inf       trait  \n",
       "NEO_E                                       inf       trait  \n",
       "NEO_O                                       inf       trait  \n",
       "NEO_A                                  0.137174       trait  \n",
       "NEO_C                                       inf       trait  \n",
       "STAI_T                                      inf       trait  "
      ]
     },
     "execution_count": 18,
     "metadata": {},
     "output_type": "execute_result"
    }
   ],
   "source": [
    "finalResults = np.array(finalResults)\n",
    "res_df = pd.DataFrame(finalResults[0])\n",
    "res_df.index = phenotype_names\n",
    "res_df.columns = ['Sample Size', 'Discovery Effect Size', 'Replication Effect Size']\n",
    "new_list = ['demography', 'demography', 'demography', 'demography', 'demography', 'trait', 'trait','trait','trait','trait',\n",
    "            'trait','trait','trait','trait','trait','trait','trait','trait','trait']    \n",
    "res_df['category']=new_list\n",
    "res_df"
   ]
  },
  {
   "cell_type": "code",
   "execution_count": 19,
   "metadata": {},
   "outputs": [
    {
     "data": {
      "text/html": [
       "<div>\n",
       "<style scoped>\n",
       "    .dataframe tbody tr th:only-of-type {\n",
       "        vertical-align: middle;\n",
       "    }\n",
       "\n",
       "    .dataframe tbody tr th {\n",
       "        vertical-align: top;\n",
       "    }\n",
       "\n",
       "    .dataframe thead th {\n",
       "        text-align: right;\n",
       "    }\n",
       "</style>\n",
       "<table border=\"1\" class=\"dataframe\">\n",
       "  <thead>\n",
       "    <tr style=\"text-align: right;\">\n",
       "      <th></th>\n",
       "      <th>Sample Size</th>\n",
       "      <th>Discovery Effect Size</th>\n",
       "      <th>Replication Effect Size</th>\n",
       "    </tr>\n",
       "  </thead>\n",
       "  <tbody>\n",
       "    <tr>\n",
       "      <th>mean</th>\n",
       "      <td>228.12</td>\n",
       "      <td>0.22</td>\n",
       "      <td>0.21</td>\n",
       "    </tr>\n",
       "    <tr>\n",
       "      <th>median</th>\n",
       "      <td>225.00</td>\n",
       "      <td>0.19</td>\n",
       "      <td>0.18</td>\n",
       "    </tr>\n",
       "    <tr>\n",
       "      <th>min</th>\n",
       "      <td>25.00</td>\n",
       "      <td>0.12</td>\n",
       "      <td>0.12</td>\n",
       "    </tr>\n",
       "    <tr>\n",
       "      <th>max</th>\n",
       "      <td>425.00</td>\n",
       "      <td>0.51</td>\n",
       "      <td>0.47</td>\n",
       "    </tr>\n",
       "  </tbody>\n",
       "</table>\n",
       "</div>"
      ],
      "text/plain": [
       "        Sample Size  Discovery Effect Size  Replication Effect Size\n",
       "mean         228.12                   0.22                     0.21\n",
       "median       225.00                   0.19                     0.18\n",
       "min           25.00                   0.12                     0.12\n",
       "max          425.00                   0.51                     0.47"
      ]
     },
     "execution_count": 19,
     "metadata": {},
     "output_type": "execute_result"
    }
   ],
   "source": [
    "agg_funcs = ['mean', 'median', 'min', 'max']\n",
    "\n",
    "stats_part1 = res_df[~np.isinf(res_df['Sample Size'])].iloc[:,0:3].agg(agg_funcs).round(2)\n",
    "\n",
    "combined_stats_df = stats_part1\n",
    "combined_stats_df"
   ]
  },
  {
   "cell_type": "code",
   "execution_count": 15,
   "metadata": {},
   "outputs": [
    {
     "data": {
      "text/html": [
       "<div>\n",
       "<style scoped>\n",
       "    .dataframe tbody tr th:only-of-type {\n",
       "        vertical-align: middle;\n",
       "    }\n",
       "\n",
       "    .dataframe tbody tr th {\n",
       "        vertical-align: top;\n",
       "    }\n",
       "\n",
       "    .dataframe thead th {\n",
       "        text-align: right;\n",
       "    }\n",
       "</style>\n",
       "<table border=\"1\" class=\"dataframe\">\n",
       "  <thead>\n",
       "    <tr style=\"text-align: right;\">\n",
       "      <th></th>\n",
       "      <th>discovery_streamlines</th>\n",
       "      <th>replication_streamlines</th>\n",
       "    </tr>\n",
       "  </thead>\n",
       "  <tbody>\n",
       "    <tr>\n",
       "      <th>25</th>\n",
       "      <td>0.46</td>\n",
       "      <td>0.46</td>\n",
       "    </tr>\n",
       "    <tr>\n",
       "      <th>50</th>\n",
       "      <td>0.34</td>\n",
       "      <td>0.38</td>\n",
       "    </tr>\n",
       "    <tr>\n",
       "      <th>75</th>\n",
       "      <td>0.30</td>\n",
       "      <td>0.46</td>\n",
       "    </tr>\n",
       "    <tr>\n",
       "      <th>100</th>\n",
       "      <td>0.28</td>\n",
       "      <td>0.55</td>\n",
       "    </tr>\n",
       "    <tr>\n",
       "      <th>125</th>\n",
       "      <td>0.27</td>\n",
       "      <td>0.67</td>\n",
       "    </tr>\n",
       "    <tr>\n",
       "      <th>150</th>\n",
       "      <td>0.26</td>\n",
       "      <td>0.69</td>\n",
       "    </tr>\n",
       "    <tr>\n",
       "      <th>175</th>\n",
       "      <td>0.24</td>\n",
       "      <td>0.76</td>\n",
       "    </tr>\n",
       "    <tr>\n",
       "      <th>200</th>\n",
       "      <td>0.24</td>\n",
       "      <td>0.82</td>\n",
       "    </tr>\n",
       "    <tr>\n",
       "      <th>225</th>\n",
       "      <td>0.23</td>\n",
       "      <td>0.88</td>\n",
       "    </tr>\n",
       "    <tr>\n",
       "      <th>250</th>\n",
       "      <td>0.24</td>\n",
       "      <td>0.89</td>\n",
       "    </tr>\n",
       "    <tr>\n",
       "      <th>275</th>\n",
       "      <td>0.23</td>\n",
       "      <td>0.90</td>\n",
       "    </tr>\n",
       "    <tr>\n",
       "      <th>300</th>\n",
       "      <td>0.24</td>\n",
       "      <td>0.92</td>\n",
       "    </tr>\n",
       "    <tr>\n",
       "      <th>325</th>\n",
       "      <td>0.23</td>\n",
       "      <td>0.96</td>\n",
       "    </tr>\n",
       "    <tr>\n",
       "      <th>350</th>\n",
       "      <td>0.23</td>\n",
       "      <td>1.02</td>\n",
       "    </tr>\n",
       "    <tr>\n",
       "      <th>375</th>\n",
       "      <td>0.23</td>\n",
       "      <td>1.04</td>\n",
       "    </tr>\n",
       "    <tr>\n",
       "      <th>400</th>\n",
       "      <td>0.23</td>\n",
       "      <td>1.06</td>\n",
       "    </tr>\n",
       "    <tr>\n",
       "      <th>425</th>\n",
       "      <td>0.23</td>\n",
       "      <td>1.09</td>\n",
       "    </tr>\n",
       "  </tbody>\n",
       "</table>\n",
       "</div>"
      ],
      "text/plain": [
       "     discovery_streamlines  replication_streamlines\n",
       "25                    0.46                     0.46\n",
       "50                    0.34                     0.38\n",
       "75                    0.30                     0.46\n",
       "100                   0.28                     0.55\n",
       "125                   0.27                     0.67\n",
       "150                   0.26                     0.69\n",
       "175                   0.24                     0.76\n",
       "200                   0.24                     0.82\n",
       "225                   0.23                     0.88\n",
       "250                   0.24                     0.89\n",
       "275                   0.23                     0.90\n",
       "300                   0.24                     0.92\n",
       "325                   0.23                     0.96\n",
       "350                   0.23                     1.02\n",
       "375                   0.23                     1.04\n",
       "400                   0.23                     1.06\n",
       "425                   0.23                     1.09"
      ]
     },
     "execution_count": 15,
     "metadata": {},
     "output_type": "execute_result"
    }
   ],
   "source": [
    "finalInd = [0,1,3,5,7,8,12,18]\n",
    "ef_size_df = []\n",
    "for mod in range(1):\n",
    "    e_mod = []\n",
    "    for i in finalInd:\n",
    "        e = replicability_results[mod][i][1]\n",
    "        e_mod.append(e)\n",
    "    e_mod = np.array(e_mod)\n",
    "    dis = pd.DataFrame(e_mod).mean(axis=0)\n",
    "\n",
    "    e_mod = []\n",
    "    for i in finalInd:\n",
    "        e = replicability_results[mod][i][2]/replicability_results[mod][i][1] \n",
    "        e_mod.append(e)\n",
    "    e_mod = np.array(e_mod)\n",
    "    rep = pd.DataFrame(e_mod).mean(axis=0)\n",
    "    \n",
    "    dis_rep = pd.concat([dis, rep], axis=1)\n",
    "    dis_rep.columns = ['discovery', 'replication']\n",
    "    ef_size_df.append(dis_rep)\n",
    "ef_size_df = pd.concat(ef_size_df, axis=1)\n",
    "ef_size_df.columns = ['discovery_streamlines', 'replication_streamlines'\n",
    "                       ]\n",
    "\n",
    "ef_size_df = ef_size_df.round(2)\n",
    "ef_size_df.index = np.arange(25, 450, 25)\n",
    "ef_size_df "
   ]
  },
  {
   "cell_type": "code",
   "execution_count": 19,
   "metadata": {},
   "outputs": [
    {
     "data": {
      "text/plain": [
       "<matplotlib.lines.Line2D at 0x14e2cc465490>"
      ]
     },
     "execution_count": 19,
     "metadata": {},
     "output_type": "execute_result"
    },
    {
     "data": {
      "image/png": "[encoded data removed]",
      "text/plain": [
       "<Figure size 65x65 with 1 Axes>"
      ]
     },
     "metadata": {},
     "output_type": "display_data"
    }
   ],
   "source": [
    "fig, ax = plt.subplots(figsize=(.65, .65))\n",
    "plt.plot(ef_size_df.iloc[:,1], alpha=0.5, linewidth=0.8)\n",
    "\n",
    "ax.axhline(y=0.8, color='black', linestyle='--', linewidth=0.5)"
   ]
  },
  {
   "cell_type": "code",
   "execution_count": null,
   "metadata": {},
   "outputs": [
    {
     "data": {
      "image/png": "[encoded data removed]",
      "text/plain": [
       "<Figure size 65x65 with 1 Axes>"
      ]
     },
     "metadata": {},
     "output_type": "display_data"
    }
   ],
   "source": [
    "\n",
    "fig, ax = plt.subplots(figsize=(.65, .65))\n",
    "colormaps = ['Greys', 'Blues']\n",
    "for i in range(19):\n",
    "    colormap = plt.get_cmap(colormaps[0])\n",
    "    plt.scatter(res_df['Discovery Effect Size'].iloc[i], res_df['Replication Effect Size'].iloc[i], s=5, alpha=0.5, color=colormap(0.8))\n",
    "    plt.xticks(fontsize=4)\n",
    "    plt.yticks(fontsize=4)\n"
   ]
  },
  {
   "cell_type": "code",
   "execution_count": 21,
   "metadata": {},
   "outputs": [
    {
     "name": "stdout",
     "output_type": "stream",
     "text": [
      "Sample Size                228.125000\n",
      "Discovery Effect Size        0.220523\n",
      "Replication Effect Size      0.205940\n",
      "dtype: float64\n",
      "--------------------------------------\n",
      "Sample Size                225.000000\n",
      "Discovery Effect Size        0.187985\n",
      "Replication Effect Size      0.177220\n",
      "dtype: float64\n"
     ]
    },
    {
     "data": {
      "text/plain": [
       "np.float64(225.0)"
      ]
     },
     "execution_count": 21,
     "metadata": {},
     "output_type": "execute_result"
    }
   ],
   "source": [
    "finite_sample_sizes = res_df[~np.isinf(res_df['Sample Size'])]\n",
    "print(finite_sample_sizes.iloc[:,0:3].mean())\n",
    "print('--------------------------------------')\n",
    "print(finite_sample_sizes.iloc[:,0:3].median())\n",
    "finite_sample_sizes['Sample Size'].median()"
   ]
  },
  {
   "cell_type": "code",
   "execution_count": 22,
   "metadata": {},
   "outputs": [
    {
     "name": "stdout",
     "output_type": "stream",
     "text": [
      "Sample Size                270.000000\n",
      "Discovery Effect Size        0.170902\n",
      "Replication Effect Size      0.163459\n",
      "dtype: float64\n",
      "--------------------------------------\n",
      "Sample Size                225.000000\n",
      "Discovery Effect Size        0.186471\n",
      "Replication Effect Size      0.164118\n",
      "dtype: float64\n"
     ]
    },
    {
     "data": {
      "text/html": [
       "<div>\n",
       "<style scoped>\n",
       "    .dataframe tbody tr th:only-of-type {\n",
       "        vertical-align: middle;\n",
       "    }\n",
       "\n",
       "    .dataframe tbody tr th {\n",
       "        vertical-align: top;\n",
       "    }\n",
       "\n",
       "    .dataframe thead th {\n",
       "        text-align: right;\n",
       "    }\n",
       "</style>\n",
       "<table border=\"1\" class=\"dataframe\">\n",
       "  <thead>\n",
       "    <tr style=\"text-align: right;\">\n",
       "      <th></th>\n",
       "      <th>Sample Size</th>\n",
       "      <th>Discovery Effect Size</th>\n",
       "      <th>Replication Effect Size</th>\n",
       "      <th>category</th>\n",
       "    </tr>\n",
       "  </thead>\n",
       "  <tbody>\n",
       "    <tr>\n",
       "      <th>IST_fluid</th>\n",
       "      <td>225.0</td>\n",
       "      <td>0.186471</td>\n",
       "      <td>0.164118</td>\n",
       "      <td>trait</td>\n",
       "    </tr>\n",
       "    <tr>\n",
       "      <th>IST_crystallised</th>\n",
       "      <td>150.0</td>\n",
       "      <td>0.210870</td>\n",
       "      <td>0.212391</td>\n",
       "      <td>trait</td>\n",
       "    </tr>\n",
       "    <tr>\n",
       "      <th>IST_intelligence_total</th>\n",
       "      <td>225.0</td>\n",
       "      <td>0.189500</td>\n",
       "      <td>0.187167</td>\n",
       "      <td>trait</td>\n",
       "    </tr>\n",
       "    <tr>\n",
       "      <th>BIS</th>\n",
       "      <td>425.0</td>\n",
       "      <td>0.122889</td>\n",
       "      <td>0.116444</td>\n",
       "      <td>trait</td>\n",
       "    </tr>\n",
       "    <tr>\n",
       "      <th>NEO_A</th>\n",
       "      <td>325.0</td>\n",
       "      <td>0.144783</td>\n",
       "      <td>0.137174</td>\n",
       "      <td>trait</td>\n",
       "    </tr>\n",
       "  </tbody>\n",
       "</table>\n",
       "</div>"
      ],
      "text/plain": [
       "                        Sample Size  Discovery Effect Size  \\\n",
       "IST_fluid                     225.0               0.186471   \n",
       "IST_crystallised              150.0               0.210870   \n",
       "IST_intelligence_total        225.0               0.189500   \n",
       "BIS                           425.0               0.122889   \n",
       "NEO_A                         325.0               0.144783   \n",
       "\n",
       "                        Replication Effect Size category  \n",
       "IST_fluid                              0.164118    trait  \n",
       "IST_crystallised                       0.212391    trait  \n",
       "IST_intelligence_total                 0.187167    trait  \n",
       "BIS                                    0.116444    trait  \n",
       "NEO_A                                  0.137174    trait  "
      ]
     },
     "execution_count": 22,
     "metadata": {},
     "output_type": "execute_result"
    }
   ],
   "source": [
    "finite_sample_sizes = res_df[~np.isinf(res_df['Sample Size']) & (res_df['category'] == 'trait')]\n",
    "print(finite_sample_sizes.iloc[:,0:3].mean())\n",
    "print('--------------------------------------')\n",
    "print(finite_sample_sizes.iloc[:,0:3].median())\n",
    "finite_sample_sizes['Sample Size'].median()\n",
    "finite_sample_sizes"
   ]
  }
 ],
 "metadata": {
  "kernelspec": {
   "display_name": "Python 3",
   "language": "python",
   "name": "python3"
  },
  "language_info": {
   "codemirror_mode": {
    "name": "ipython",
    "version": 3
   },
   "file_extension": ".py",
   "mimetype": "text/x-python",
   "name": "python",
   "nbconvert_exporter": "python",
   "pygments_lexer": "ipython3",
   "version": "3.9.21"
  }
 },
 "nbformat": 4,
 "nbformat_minor": 2
}
